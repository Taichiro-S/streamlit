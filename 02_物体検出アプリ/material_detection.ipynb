{
 "cells": [
  {
   "cell_type": "code",
   "execution_count": 1,
   "id": "242bce32-3521-4dc2-b772-339d088a3bf0",
   "metadata": {
    "collapsed": true,
    "jupyter": {
     "outputs_hidden": true
    },
    "tags": []
   },
   "outputs": [
    {
     "name": "stdout",
     "output_type": "stream",
     "text": [
      "Requirement already satisfied: azure-cognitiveservices-vision-computervision in /Users/sekiguchi/opt/anaconda3/lib/python3.7/site-packages (0.9.0)\n",
      "Requirement already satisfied: azure-common~=1.1 in /Users/sekiguchi/opt/anaconda3/lib/python3.7/site-packages (from azure-cognitiveservices-vision-computervision) (1.1.28)\n",
      "Requirement already satisfied: msrest>=0.5.0 in /Users/sekiguchi/opt/anaconda3/lib/python3.7/site-packages (from azure-cognitiveservices-vision-computervision) (0.7.1)\n",
      "Requirement already satisfied: requests-oauthlib>=0.5.0 in /Users/sekiguchi/opt/anaconda3/lib/python3.7/site-packages (from msrest>=0.5.0->azure-cognitiveservices-vision-computervision) (1.3.1)\n",
      "Requirement already satisfied: requests~=2.16 in /Users/sekiguchi/opt/anaconda3/lib/python3.7/site-packages (from msrest>=0.5.0->azure-cognitiveservices-vision-computervision) (2.28.1)\n",
      "Requirement already satisfied: isodate>=0.6.0 in /Users/sekiguchi/opt/anaconda3/lib/python3.7/site-packages (from msrest>=0.5.0->azure-cognitiveservices-vision-computervision) (0.6.1)\n",
      "Requirement already satisfied: azure-core>=1.24.0 in /Users/sekiguchi/opt/anaconda3/lib/python3.7/site-packages (from msrest>=0.5.0->azure-cognitiveservices-vision-computervision) (1.26.1)\n",
      "Requirement already satisfied: certifi>=2017.4.17 in /Users/sekiguchi/opt/anaconda3/lib/python3.7/site-packages (from msrest>=0.5.0->azure-cognitiveservices-vision-computervision) (2022.12.7)\n",
      "Requirement already satisfied: typing-extensions>=4.0.1 in /Users/sekiguchi/opt/anaconda3/lib/python3.7/site-packages (from azure-core>=1.24.0->msrest>=0.5.0->azure-cognitiveservices-vision-computervision) (4.4.0)\n",
      "Requirement already satisfied: six>=1.11.0 in /Users/sekiguchi/opt/anaconda3/lib/python3.7/site-packages (from azure-core>=1.24.0->msrest>=0.5.0->azure-cognitiveservices-vision-computervision) (1.16.0)\n",
      "Requirement already satisfied: idna<4,>=2.5 in /Users/sekiguchi/opt/anaconda3/lib/python3.7/site-packages (from requests~=2.16->msrest>=0.5.0->azure-cognitiveservices-vision-computervision) (3.4)\n",
      "Requirement already satisfied: urllib3<1.27,>=1.21.1 in /Users/sekiguchi/opt/anaconda3/lib/python3.7/site-packages (from requests~=2.16->msrest>=0.5.0->azure-cognitiveservices-vision-computervision) (1.26.13)\n",
      "Requirement already satisfied: charset-normalizer<3,>=2 in /Users/sekiguchi/opt/anaconda3/lib/python3.7/site-packages (from requests~=2.16->msrest>=0.5.0->azure-cognitiveservices-vision-computervision) (2.0.4)\n",
      "Requirement already satisfied: oauthlib>=3.0.0 in /Users/sekiguchi/opt/anaconda3/lib/python3.7/site-packages (from requests-oauthlib>=0.5.0->msrest>=0.5.0->azure-cognitiveservices-vision-computervision) (3.2.2)\n"
     ]
    }
   ],
   "source": [
    "!pip install --upgrade azure-cognitiveservices-vision-computervision"
   ]
  },
  {
   "cell_type": "code",
   "execution_count": 2,
   "id": "42a48e0f-0b2f-4ca9-b183-21ee5896e8a6",
   "metadata": {},
   "outputs": [
    {
     "name": "stdout",
     "output_type": "stream",
     "text": [
      "Requirement already satisfied: pillow in /Users/sekiguchi/opt/anaconda3/lib/python3.7/site-packages (9.3.0)\n"
     ]
    }
   ],
   "source": [
    "!pip install pillow"
   ]
  },
  {
   "cell_type": "code",
   "execution_count": 3,
   "id": "3e974bdc-4ad3-4224-8f4d-79cb310cebfe",
   "metadata": {},
   "outputs": [],
   "source": [
    "from azure.cognitiveservices.vision.computervision import ComputerVisionClient\n",
    "from azure.cognitiveservices.vision.computervision.models import OperationStatusCodes\n",
    "from azure.cognitiveservices.vision.computervision.models import VisualFeatureTypes\n",
    "from msrest.authentication import CognitiveServicesCredentials\n",
    "\n",
    "from array import array\n",
    "import os\n",
    "from PIL import Image\n",
    "import sys\n",
    "import time"
   ]
  },
  {
   "cell_type": "code",
   "execution_count": 6,
   "id": "954e869a-bc6a-4da7-a1e8-dcabbb1ce13c",
   "metadata": {},
   "outputs": [],
   "source": [
    "#エンドポイントURLと認証鍵を使って認証を行う\n",
    "KEY = 'e760a7ec5e4144bfaca9af627f4cf002'\n",
    "ENDOPOINT = 'https://udemy-20221228.cognitiveservices.azure.com/'\n",
    "computervision_client = ComputerVisionClient(ENDOPOINT, CognitiveServicesCredentials(KEY))"
   ]
  },
  {
   "cell_type": "code",
   "execution_count": 12,
   "id": "fac46d5b-7e77-46f8-ab5b-783188300d93",
   "metadata": {},
   "outputs": [],
   "source": [
    "#画像読み込み\n",
    "remote_image_url = \"https://raw.githubusercontent.com/Azure-Samples/cognitive-services-sample-data-files/master/ComputerVision/Images/landmark.jpg\""
   ]
  },
  {
   "cell_type": "markdown",
   "id": "f505ac5a-9c80-4c06-b7c8-d4a283e9d9ae",
   "metadata": {
    "tags": []
   },
   "source": [
    "# 画像分析\n",
    "##　タグづけ"
   ]
  },
  {
   "cell_type": "code",
   "execution_count": null,
   "id": "a8b7ad0e-f966-4835-83b1-e0bf9d7c9785",
   "metadata": {
    "tags": []
   },
   "outputs": [
    {
     "name": "stdout",
     "output_type": "stream",
     "text": [
      "Tags in the remote image: \n",
      "'outdoor' with confidence 99.00%\n",
      "'building' with confidence 98.81%\n",
      "'sky' with confidence 98.21%\n",
      "'stadium' with confidence 98.17%\n",
      "'ancient rome' with confidence 96.16%\n",
      "'ruins' with confidence 95.04%\n",
      "'amphitheatre' with confidence 93.99%\n",
      "'ancient roman architecture' with confidence 92.65%\n",
      "'historic site' with confidence 89.55%\n",
      "'ancient history' with confidence 89.54%\n",
      "'history' with confidence 86.72%\n",
      "'archaeological site' with confidence 84.41%\n",
      "'travel' with confidence 65.85%\n",
      "'large' with confidence 61.02%\n",
      "'city' with confidence 56.57%\n"
     ]
    }
   ],
   "source": [
    "#読み込んだ画像をAPIを呼び出して分析する\n",
    "#返り値はJSON形式(詳細はhttps://learn.microsoft.com/ja-jp/azure/cognitive-services/computer-vision/concept-describing-images?source=recommendations&tabs=3-2)\n",
    "tags_result_remote = computervision_client.tag_image(remote_image_url )\n",
    "\n",
    "print(\"Tags in the remote image: \")\n",
    "#タグと信頼度を書き出す\n",
    "if (len(tags_result_remote.tags) == 0):\n",
    "    print(\"No tags detected.\")\n",
    "else:\n",
    "    for tag in tags_result_remote.tags:\n",
    "        print(\"'{}' with confidence {:.2f}%\".format(tag.name, tag.confidence * 100))"
   ]
  },
  {
   "cell_type": "markdown",
   "id": "a894fd7b-af85-4864-b346-259606200fe3",
   "metadata": {},
   "source": [
    "## 説明"
   ]
  },
  {
   "cell_type": "code",
   "execution_count": 14,
   "id": "31dcf245-aef3-40d1-91fc-6f5e1ff09162",
   "metadata": {},
   "outputs": [
    {
     "name": "stdout",
     "output_type": "stream",
     "text": [
      "Description of the remote image: \n",
      "'an ancient city with many ruins with Colosseum in the background' with confidence 33.80%\n"
     ]
    }
   ],
   "source": [
    "#読み込んだ画像をAPIを呼び出して分析する\n",
    "#https://learn.microsoft.com/ja-jp/azure/cognitive-services/computer-vision/concept-describing-images?source=recommendations&tabs=3-2\n",
    "description_result_remote = computervision_client.describe_image(remote_image_url )\n",
    "\n",
    "print(\"Description of the remote image: \")\n",
    "#説明と信頼度を書き出す\n",
    "if (len(description_result_remote.captions) == 0):\n",
    "    print(\"No descriptions detected.\")\n",
    "else:\n",
    "    for caption in description_result_remote.captions:\n",
    "        print(\"'{}' with confidence {:.2f}%\".format(caption.text, caption.confidence * 100))"
   ]
  },
  {
   "cell_type": "markdown",
   "id": "47a3eb5a-e8aa-4970-bf76-edbd9fcf2d45",
   "metadata": {},
   "source": [
    "## カテゴリ取得"
   ]
  },
  {
   "cell_type": "code",
   "execution_count": 20,
   "id": "9cc0f991-ef3e-42c1-8f31-ac4f1c917ddd",
   "metadata": {},
   "outputs": [
    {
     "name": "stdout",
     "output_type": "stream",
     "text": [
      "Categories from the remote image: \n",
      "'building_' with confidence 31.64%\n",
      "'others_' with confidence 0.39%\n",
      "'outdoor_' with confidence 3.91%\n"
     ]
    }
   ],
   "source": [
    "#読み込んだ画像をAPIを呼び出して分析する\n",
    "#https://learn.microsoft.com/ja-jp/azure/cognitive-services/computer-vision/concept-categorizing-images?source=recommendations\n",
    "remote_image_features = ['categories']\n",
    "categorize_results_remote = computervision_client.analyze_image(remote_image_url,remote_image_features)\n",
    "\n",
    "print(\"Categories from the remote image: \")\n",
    "#分類と信頼度を書き出す\n",
    "if (len(categorize_results_remote.categories) == 0):\n",
    "    print(\"No descriptions detected.\")\n",
    "else:\n",
    "    for category in categorize_results_remote.categories:\n",
    "        print(\"'{}' with confidence {:.2f}%\".format(category.name, category.score * 100))"
   ]
  },
  {
   "cell_type": "markdown",
   "id": "df373efb-9fd4-43ee-a6bf-af23698091f3",
   "metadata": {},
   "source": [
    "## 物体検出"
   ]
  },
  {
   "cell_type": "code",
   "execution_count": 32,
   "id": "905f4aee-7991-4c1a-af2b-2100b75a96f4",
   "metadata": {},
   "outputs": [
    {
     "name": "stdout",
     "output_type": "stream",
     "text": [
      "Detect objects in the remote image: \n",
      "object at location 265,327,331,391\n",
      "object at location 125,351,11,379\n",
      "object at location 237,412,5,378\n"
     ]
    }
   ],
   "source": [
    "#読み込んだ画像をAPIを呼び出して分析する\n",
    "#https://learn.microsoft.com/ja-jp/azure/cognitive-services/computer-vision/concept-object-detection?tabs=3-2\n",
    "remote_image_url_objects = 'https://newsatcl-pctr.c.yimg.jp/t/amd-img/20221202-00487076-footballc-000-1-view.jpg?exp=10800'\n",
    "detect_object_results_remote = computervision_client.detect_objects(remote_image_url_objects)\n",
    "\n",
    "print(\"Detect objects in the remote image: \")\n",
    "#検出した物体の場所(矩形の頂点の座標)を書き出す\n",
    "if (len(detect_object_results_remote.objects) == 0):\n",
    "    print(\"No descriptions detected.\")\n",
    "else:\n",
    "    for object in detect_object_results_remote.objects:\n",
    "        print(\"object at location {},{},{},{}\".format( \\\n",
    "        object.rectangle.x, object.rectangle.x + object.rectangle.w, \\\n",
    "        object.rectangle.y, object.rectangle.y + object.rectangle.h ))"
   ]
  },
  {
   "cell_type": "markdown",
   "id": "fce2f041-2b38-41b3-b1a5-c457070996dc",
   "metadata": {},
   "source": [
    "# ローカルの画像を読み込んで分析する"
   ]
  },
  {
   "cell_type": "code",
   "execution_count": 48,
   "id": "fb6d135a-4e39-465f-b138-0f2002670d51",
   "metadata": {},
   "outputs": [
    {
     "name": "stdout",
     "output_type": "stream",
     "text": [
      "Tags in the local image: \n",
      "tableware\n",
      "food\n",
      "baked goods\n",
      "plate\n",
      "drink\n",
      "coffee cup\n",
      "dishware\n",
      "saucer\n",
      "snack\n",
      "serveware\n",
      "meal\n",
      "mug\n",
      "tea\n",
      "fast food\n",
      "breakfast\n",
      "fork\n",
      "kitchen utensil\n",
      "dish\n",
      "brunch\n",
      "platter\n",
      "dessert\n",
      "cup\n",
      "coffee\n",
      "indoor\n",
      "sitting\n",
      "table\n"
     ]
    }
   ],
   "source": [
    "#ローカルの画像を開く\n",
    "local_image_path = 'sample01.jpg'\n",
    "local_image = open(local_image_path, \"rb\")\n",
    "#メソッドに_in_streamをつけるとローカルファイルを分析できる\n",
    "tags_result = computervision_client.tag_image_in_stream(local_image)\n",
    "tags = tags_result.tags\n",
    "tags_name = []\n",
    "\n",
    "#タグの名前のみを取得して配列に入れる\n",
    "for tag in tags:\n",
    "    tags_name.append(tag.name)\n",
    "\n",
    "\n",
    "print(\"Tags in the local image: \")\n",
    "\n",
    "if (len(tags_name) == 0):\n",
    "    print(\"No tags detected.\")\n",
    "else:\n",
    "    for tag in tags_name:\n",
    "        print(tag)\n",
    "\n"
   ]
  },
  {
   "cell_type": "markdown",
   "id": "c1f97bd7-6a72-49c5-b07c-1ddbdcbedb4f",
   "metadata": {},
   "source": [
    "## ローカルの画像を読み込んでタグを取得する関数"
   ]
  },
  {
   "cell_type": "code",
   "execution_count": 45,
   "id": "f55afae9-bb31-48f8-9add-7619b93d95c2",
   "metadata": {
    "collapsed": true,
    "jupyter": {
     "outputs_hidden": true
    },
    "tags": []
   },
   "outputs": [
    {
     "data": {
      "text/plain": [
       "['tableware',\n",
       " 'food',\n",
       " 'baked goods',\n",
       " 'plate',\n",
       " 'drink',\n",
       " 'coffee cup',\n",
       " 'dishware',\n",
       " 'saucer',\n",
       " 'snack',\n",
       " 'serveware',\n",
       " 'meal',\n",
       " 'mug',\n",
       " 'tea',\n",
       " 'fast food',\n",
       " 'breakfast',\n",
       " 'fork',\n",
       " 'kitchen utensil',\n",
       " 'dish',\n",
       " 'brunch',\n",
       " 'platter',\n",
       " 'dessert',\n",
       " 'cup',\n",
       " 'coffee',\n",
       " 'indoor',\n",
       " 'sitting',\n",
       " 'table']"
      ]
     },
     "execution_count": 45,
     "metadata": {},
     "output_type": "execute_result"
    }
   ],
   "source": [
    "def get_tags(file_path):\n",
    "    image = open(file_path, \"rb\")\n",
    "    tags_result = computervision_client.tag_image_in_stream(image)\n",
    "    tags = tags_result.tags\n",
    "    tags_name = []\n",
    "    for tag in tags:\n",
    "        tags_name.append(tag.name)\n",
    "    return tags_name\n",
    "\n",
    "file_path = 'sample01.jpg'\n",
    "get_tags(file_path)"
   ]
  },
  {
   "cell_type": "markdown",
   "id": "4d595b5e-36c0-4699-857f-05516860f4a7",
   "metadata": {},
   "source": [
    "## 物体を検出する関数"
   ]
  },
  {
   "cell_type": "code",
   "execution_count": 47,
   "id": "b6450bc0-1e88-4c7d-a060-c10b42cdf0e5",
   "metadata": {},
   "outputs": [
    {
     "data": {
      "text/plain": [
       "[<azure.cognitiveservices.vision.computervision.models._models_py3.DetectedObject at 0x7fa98185ff90>,\n",
       " <azure.cognitiveservices.vision.computervision.models._models_py3.DetectedObject at 0x7fa98185fe50>]"
      ]
     },
     "execution_count": 47,
     "metadata": {},
     "output_type": "execute_result"
    }
   ],
   "source": [
    "def detect_objects(file_path):\n",
    "    image = open(file_path, \"rb\")\n",
    "    detect_objects_result = computervision_client.detect_objects_in_stream(image)\n",
    "    objects = detect_objects_result.objects\n",
    "    return objects\n",
    "file_path = 'sample01.jpg'\n",
    "detect_objects(file_path)"
   ]
  },
  {
   "cell_type": "code",
   "execution_count": null,
   "id": "3a3e3d7e-6456-4087-a7b7-f89941f48d4a",
   "metadata": {},
   "outputs": [],
   "source": []
  }
 ],
 "metadata": {
  "kernelspec": {
   "display_name": "Python 3 (ipykernel)",
   "language": "python",
   "name": "python3"
  },
  "language_info": {
   "codemirror_mode": {
    "name": "ipython",
    "version": 3
   },
   "file_extension": ".py",
   "mimetype": "text/x-python",
   "name": "python",
   "nbconvert_exporter": "python",
   "pygments_lexer": "ipython3",
   "version": "3.7.15"
  }
 },
 "nbformat": 4,
 "nbformat_minor": 5
}
